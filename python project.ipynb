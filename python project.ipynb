{
 "cells": [
  {
   "cell_type": "code",
   "execution_count": 17,
   "id": "825f6b14",
   "metadata": {},
   "outputs": [
    {
     "name": "stdout",
     "output_type": "stream",
     "text": [
      "You Gueses the wrong number\n",
      "hint:try higher number\n",
      "You Gueses the wrong number\n",
      "hint:try higher number\n",
      "You Gueses the wrong number\n",
      "try lower number\n",
      "game over\n"
     ]
    }
   ],
   "source": [
    "import random\n",
    "a=random.randint(1,1000)\n",
    "\n",
    "for attempt in range(1, 4):\n",
    "  b =int(input(\"enter wow number\"))\n",
    "\n",
    "\n",
    "  if b==a:\n",
    "    print(\"YOu sucessfully guessed the number\")\n",
    "  else:\n",
    "    print(\"You Gueses the wrong number\")\n",
    "  if b<a:\n",
    "    print(\"hint:try higher number\")\n",
    "  else:\n",
    "    print(\"try lower number\")\n",
    "\n",
    "else:\n",
    "  print(\"game over\")\n",
    "\n"
   ]
  },
  {
   "cell_type": "code",
   "execution_count": null,
   "id": "a2eebb22",
   "metadata": {},
   "outputs": [],
   "source": []
  }
 ],
 "metadata": {
  "kernelspec": {
   "display_name": "Python 3",
   "language": "python",
   "name": "python3"
  },
  "language_info": {
   "codemirror_mode": {
    "name": "ipython",
    "version": 3
   },
   "file_extension": ".py",
   "mimetype": "text/x-python",
   "name": "python",
   "nbconvert_exporter": "python",
   "pygments_lexer": "ipython3",
   "version": "3.13.1"
  }
 },
 "nbformat": 4,
 "nbformat_minor": 5
}
