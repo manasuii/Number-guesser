{
 "cells": [
  {
   "cell_type": "code",
   "execution_count": 12,
   "id": "18e6a21c",
   "metadata": {},
   "outputs": [
    {
     "name": "stdout",
     "output_type": "stream",
     "text": [
      "tae\n"
     ]
    }
   ],
   "source": [
    "import random\n",
    "import string\n",
    "\n",
    "\n",
    "x=input(\"Enter your message:\")\n",
    "ran_start=''.join(random.choices(string.ascii_lowercase,k=3))\n",
    "ran_end=''.join(random.choices(string.ascii_lowercase,k=3))\n",
    "                  \n",
    "\n",
    "if len(x)>3:\n",
    "    new_x=x[1:]+x[0]\n",
    "    up_x=ran_start+new_x+ran_end\n",
    "    print(up_x)\n",
    "else:\n",
    "    up_x=x[::-1]\n",
    "    print(up_x)\n",
    "\n",
    "\n"
   ]
  },
  {
   "cell_type": "code",
   "execution_count": null,
   "id": "8b961a0e",
   "metadata": {},
   "outputs": [],
   "source": []
  }
 ],
 "metadata": {
  "kernelspec": {
   "display_name": "Python 3",
   "language": "python",
   "name": "python3"
  },
  "language_info": {
   "codemirror_mode": {
    "name": "ipython",
    "version": 3
   },
   "file_extension": ".py",
   "mimetype": "text/x-python",
   "name": "python",
   "nbconvert_exporter": "python",
   "pygments_lexer": "ipython3",
   "version": "3.13.1"
  }
 },
 "nbformat": 4,
 "nbformat_minor": 5
}
