{
 "cells": [
  {
   "cell_type": "code",
   "execution_count": 18,
   "id": "7685adc8",
   "metadata": {},
   "outputs": [
    {
     "name": "stdout",
     "output_type": "stream",
     "text": [
      "What is the capital of France?\n",
      "A. Berlin\n",
      "B. Madrid\n",
      "C. Paris\n",
      "D. Rome\n",
      "c\n",
      "YAYYY!!! you have chosen the right answer\n",
      "Which data type is immutable in Python?\n",
      "A. List\n",
      "B. Tuple\n",
      "C. Dictionary\n",
      "D. Set\n",
      "b\n",
      "YAYYY!!! you have chosen the right answer\n",
      "Who developed the theory of relativity?\n",
      "A. Isaac Newton\n",
      "B. Albert Einstein\n",
      "C. Nikola Tesla\n",
      "D. Galileo Galilei\n",
      "d\n",
      "you have been eliminated\n",
      "you have earned a total of 2000\n"
     ]
    }
   ],
   "source": [
    "quiz = {\n",
    "    1: {\n",
    "        \"question\": \"What is the capital of France?\",\n",
    "        \"options\": [\"A. Berlin\", \"B. Madrid\", \"C. Paris\", \"D. Rome\"],\n",
    "        \"answer\": \"C\"\n",
    "    },\n",
    "    2: {\n",
    "        \"question\": \"Which data type is immutable in Python?\",\n",
    "        \"options\": [\"A. List\", \"B. Tuple\", \"C. Dictionary\", \"D. Set\"],\n",
    "        \"answer\": \"B\"\n",
    "    },\n",
    "    3: {\n",
    "        \"question\": \"Who developed the theory of relativity?\",\n",
    "        \"options\": [\"A. Isaac Newton\", \"B. Albert Einstein\", \"C. Nikola Tesla\", \"D. Galileo Galilei\"],\n",
    "        \"answer\": \"B\"\n",
    "    },\n",
    "    4: {\n",
    "        \"question\": \"Which one is the largest planet in our solar system?\",\n",
    "        \"options\": [\"A. Earth\", \"B. Mars\", \"C. Jupiter\", \"D. Saturn\"],\n",
    "        \"answer\": \"C\"\n",
    "    },\n",
    "    5: {\n",
    "        \"question\": \"What does HTML stand for?\",\n",
    "        \"options\": [\"A. HyperText Markup Language\", \"B. HighText Machine Language\", \n",
    "                    \"C. Hyper Transfer Markup Language\", \"D. None of these\"],\n",
    "        \"answer\": \"A\"\n",
    "    }\n",
    "}\n",
    "i=1\n",
    "money=0\n",
    "while i<=5:\n",
    "    question=quiz[i][\"question\"]\n",
    "    print(question)\n",
    "    options=quiz[i][\"options\"]\n",
    "    for opt in options:\n",
    "        print(opt)\n",
    "\n",
    "   \n",
    "    x=input(\"Enter your answer:\")\n",
    "    print(x)\n",
    "    if x.upper()==quiz[i][\"answer\"]:\n",
    "        print(\"YAYYY!!! you have chosen the right answer\")\n",
    "        money+=1000\n",
    "        i+=1\n",
    "    else:\n",
    "        print(\"you have been eliminated\")\n",
    "        break\n",
    "print(\"you have earned a total of\",money)\n"
   ]
  }
 ],
 "metadata": {
  "kernelspec": {
   "display_name": "Python 3",
   "language": "python",
   "name": "python3"
  },
  "language_info": {
   "codemirror_mode": {
    "name": "ipython",
    "version": 3
   },
   "file_extension": ".py",
   "mimetype": "text/x-python",
   "name": "python",
   "nbconvert_exporter": "python",
   "pygments_lexer": "ipython3",
   "version": "3.13.1"
  }
 },
 "nbformat": 4,
 "nbformat_minor": 5
}
